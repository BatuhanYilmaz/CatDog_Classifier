{
 "cells": [
  {
   "cell_type": "code",
   "execution_count": 5,
   "metadata": {
    "colab": {
     "base_uri": "https://localhost:8080/",
     "height": 34
    },
    "colab_type": "code",
    "id": "Y5Ke1trGA3dG",
    "outputId": "f974eece-4210-4a4c-a9fd-63ad9de0595e"
   },
   "outputs": [
    {
     "name": "stderr",
     "output_type": "stream",
     "text": [
      "UsageError: Cell magic `%%tf_version` not found.\n"
     ]
    }
   ],
   "source": [
    "#%tensorflow_version 2.0\n",
    "import tensorflow as tf\n",
    "tf.test.is_gpu_available()\n"
   ]
  },
  {
   "cell_type": "code",
   "execution_count": null,
   "metadata": {
    "colab": {},
    "colab_type": "code",
    "id": "Rr6ULvfZD_GD"
   },
   "outputs": [],
   "source": []
  },
  {
   "cell_type": "markdown",
   "metadata": {
    "colab_type": "text",
    "id": "NVp9rZTqER7z"
   },
   "source": [
    "Initializing parameters:"
   ]
  },
  {
   "cell_type": "code",
   "execution_count": 2,
   "metadata": {
    "colab": {},
    "colab_type": "code",
    "id": "i1rqqC8rCt5G"
   },
   "outputs": [],
   "source": [
    "weight_decay = 1e-4\n",
    "batch_size = 32\n",
    "input_size = 160 #160x160 matrix\n",
    "num_classes = 2  # binary classifier\n",
    "num_features = 32 #may be much more\n",
    "num_epochs = 20 "
   ]
  },
  {
   "cell_type": "code",
   "execution_count": 3,
   "metadata": {
    "colab": {},
    "colab_type": "code",
    "id": "Ukk20svuEW0O"
   },
   "outputs": [],
   "source": [
    "def vgg_block(x,filters,layers):\n",
    "  for i in range(layers):\n",
    "    # 2-D Convolution (with l1 & l2 Regularization: https://towardsdatascience.com/l1-and-l2-regularization-methods-ce25e7fc831c)\n",
    "    x = tf.keras.layers.Conv2D(filters,kernel_size = (3,3), padding = 'same', kernel_initializer = 'he_normal', kernel_regularizer = tf.keras.regularizers.l2(weight_decay))(x)\n",
    "    # Batch Normalization: https://towardsdatascience.com/batch-normalization-in-neural-networks-1ac91516821c\n",
    "    x = tf.keras.layers.BatchNormalization()(x)\n",
    "    # Activavtion Function (ReLU (Linear)): https://www.tinymind.com/learn/terms/relu\n",
    "    x = tf.keras.layers.Activation('relu')(x)\n",
    "  return x\n",
    "\n",
    "\n"
   ]
  },
  {
   "cell_type": "code",
   "execution_count": 4,
   "metadata": {
    "colab": {},
    "colab_type": "code",
    "id": "D7vY86C2Hb1x"
   },
   "outputs": [],
   "source": [
    "def vgg8():\n",
    "  input = tf.keras.layers.Input(shape = (input_size, input_size, 3)) # channels = 3 (RGB image)\n",
    "  x = vgg_block(input, 16, 2)\n",
    "  x = tf.keras.layers.MaxPool2D(pool_size = (2,2))(x) # 2-D Max Pooling: https://peltarion.com/knowledge-center/documentation/modeling-view/build-an-ai-model/blocks/2d-max-pooling-block\n",
    "  x = vgg_block(x, 32, 2) \n",
    "  x = tf.keras.layers.MaxPool2D(pool_size = (2,2))(x)\n",
    "  x = vgg_block(x, 64, 2) \n",
    "  x = tf.keras.layers.MaxPool2D(pool_size = (2,2))(x)\n",
    "  x = tf.keras.layers.BatchNormalization()(x)\n",
    "  x = tf.keras.layers.Dropout(0.4)(x) # Dropout Function: https://towardsdatascience.com/machine-learning-part-20-dropout-keras-layers-explained-8c9f6dc4c9ab\n",
    "  x = tf.keras.layers.Flatten()(x)\n",
    "  x = tf.keras.layers.Dense(num_features, kernel_initializer = 'he_normal', kernel_regularizer = tf.keras.regularizers.l2(weight_decay))(x)\n",
    "  x = tf.keras.layers.BatchNormalization()(x)\n",
    "  output = tf.keras.layers.Dense(num_classes, activation = 'softmax', kernel_regularizer = tf.keras.regularizers.l2(weight_decay))(x)\n",
    "  model = tf.keras.models.Model(input,output)\n",
    "  model.summary()\n",
    "  return model\n"
   ]
  },
  {
   "cell_type": "code",
   "execution_count": 5,
   "metadata": {
    "colab": {
     "base_uri": "https://localhost:8080/",
     "height": 1000
    },
    "colab_type": "code",
    "id": "vtofNgLlLMSU",
    "outputId": "65d7d7b1-43a2-466b-aec4-614513d3a895"
   },
   "outputs": [
    {
     "name": "stdout",
     "output_type": "stream",
     "text": [
      "Model: \"model\"\n",
      "_________________________________________________________________\n",
      "Layer (type)                 Output Shape              Param #   \n",
      "=================================================================\n",
      "input_1 (InputLayer)         [(None, 160, 160, 3)]     0         \n",
      "_________________________________________________________________\n",
      "conv2d (Conv2D)              (None, 160, 160, 16)      448       \n",
      "_________________________________________________________________\n",
      "batch_normalization (BatchNo (None, 160, 160, 16)      64        \n",
      "_________________________________________________________________\n",
      "activation (Activation)      (None, 160, 160, 16)      0         \n",
      "_________________________________________________________________\n",
      "conv2d_1 (Conv2D)            (None, 160, 160, 16)      2320      \n",
      "_________________________________________________________________\n",
      "batch_normalization_1 (Batch (None, 160, 160, 16)      64        \n",
      "_________________________________________________________________\n",
      "activation_1 (Activation)    (None, 160, 160, 16)      0         \n",
      "_________________________________________________________________\n",
      "max_pooling2d (MaxPooling2D) (None, 80, 80, 16)        0         \n",
      "_________________________________________________________________\n",
      "conv2d_2 (Conv2D)            (None, 80, 80, 32)        4640      \n",
      "_________________________________________________________________\n",
      "batch_normalization_2 (Batch (None, 80, 80, 32)        128       \n",
      "_________________________________________________________________\n",
      "activation_2 (Activation)    (None, 80, 80, 32)        0         \n",
      "_________________________________________________________________\n",
      "conv2d_3 (Conv2D)            (None, 80, 80, 32)        9248      \n",
      "_________________________________________________________________\n",
      "batch_normalization_3 (Batch (None, 80, 80, 32)        128       \n",
      "_________________________________________________________________\n",
      "activation_3 (Activation)    (None, 80, 80, 32)        0         \n",
      "_________________________________________________________________\n",
      "max_pooling2d_1 (MaxPooling2 (None, 40, 40, 32)        0         \n",
      "_________________________________________________________________\n",
      "conv2d_4 (Conv2D)            (None, 40, 40, 64)        18496     \n",
      "_________________________________________________________________\n",
      "batch_normalization_4 (Batch (None, 40, 40, 64)        256       \n",
      "_________________________________________________________________\n",
      "activation_4 (Activation)    (None, 40, 40, 64)        0         \n",
      "_________________________________________________________________\n",
      "conv2d_5 (Conv2D)            (None, 40, 40, 64)        36928     \n",
      "_________________________________________________________________\n",
      "batch_normalization_5 (Batch (None, 40, 40, 64)        256       \n",
      "_________________________________________________________________\n",
      "activation_5 (Activation)    (None, 40, 40, 64)        0         \n",
      "_________________________________________________________________\n",
      "max_pooling2d_2 (MaxPooling2 (None, 20, 20, 64)        0         \n",
      "_________________________________________________________________\n",
      "batch_normalization_6 (Batch (None, 20, 20, 64)        256       \n",
      "_________________________________________________________________\n",
      "dropout (Dropout)            (None, 20, 20, 64)        0         \n",
      "_________________________________________________________________\n",
      "flatten (Flatten)            (None, 25600)             0         \n",
      "_________________________________________________________________\n",
      "dense (Dense)                (None, 32)                819232    \n",
      "_________________________________________________________________\n",
      "batch_normalization_7 (Batch (None, 32)                128       \n",
      "_________________________________________________________________\n",
      "dense_1 (Dense)              (None, 2)                 66        \n",
      "=================================================================\n",
      "Total params: 892,658\n",
      "Trainable params: 892,018\n",
      "Non-trainable params: 640\n",
      "_________________________________________________________________\n"
     ]
    }
   ],
   "source": [
    "model = vgg8() \n"
   ]
  },
  {
   "cell_type": "code",
   "execution_count": 6,
   "metadata": {
    "colab": {
     "base_uri": "https://localhost:8080/",
     "height": 34
    },
    "colab_type": "code",
    "id": "_L4Q_q2-NLHT",
    "outputId": "7abbf07e-e848-4e38-d3f3-5b763e7f1534"
   },
   "outputs": [
    {
     "data": {
      "text/plain": [
       "'/home/batu/.keras/datasets/cats_and_dogs_filtered.zip'"
      ]
     },
     "execution_count": 6,
     "metadata": {},
     "output_type": "execute_result"
    }
   ],
   "source": [
    "url = 'https://bit.ly/33n6FcG'\n",
    "path_to_zip = tf.keras.utils.get_file('cats_and_dogs_filtered.zip', origin = url, extract = True)\n",
    "path_to_zip"
   ]
  },
  {
   "cell_type": "code",
   "execution_count": 7,
   "metadata": {
    "colab": {},
    "colab_type": "code",
    "id": "ZH5bo98FPOyB"
   },
   "outputs": [],
   "source": [
    "import os"
   ]
  },
  {
   "cell_type": "code",
   "execution_count": 8,
   "metadata": {
    "colab": {
     "base_uri": "https://localhost:8080/",
     "height": 34
    },
    "colab_type": "code",
    "id": "c9QmbznNQplK",
    "outputId": "cddf38f1-0614-4c99-84a4-5dfc346fb48d"
   },
   "outputs": [
    {
     "data": {
      "text/plain": [
       "'/home/batu/.keras/datasets/cats_and_dogs_filtered'"
      ]
     },
     "execution_count": 8,
     "metadata": {},
     "output_type": "execute_result"
    }
   ],
   "source": [
    "dataset_dir = os.path.join(os.path.dirname(path_to_zip), 'cats_and_dogs_filtered')\n",
    "dataset_dir"
   ]
  },
  {
   "cell_type": "code",
   "execution_count": 9,
   "metadata": {
    "colab": {
     "base_uri": "https://localhost:8080/",
     "height": 34
    },
    "colab_type": "code",
    "id": "i8gaSCWZRAka",
    "outputId": "866bbcc0-6808-4f3b-a13e-07940413e2f2"
   },
   "outputs": [
    {
     "name": "stdout",
     "output_type": "stream",
     "text": [
      "train  validation  vectorize.py\r\n"
     ]
    }
   ],
   "source": [
    "!ls $dataset_dir"
   ]
  },
  {
   "cell_type": "code",
   "execution_count": 10,
   "metadata": {
    "colab": {
     "base_uri": "https://localhost:8080/",
     "height": 34
    },
    "colab_type": "code",
    "id": "7K5zCQc3RRb_",
    "outputId": "aa67bd8c-4d3d-4a2a-cfaf-6d5a2aaeef05"
   },
   "outputs": [
    {
     "data": {
      "text/plain": [
       "'/home/batu/.keras/datasets/cats_and_dogs_filtered/train'"
      ]
     },
     "execution_count": 10,
     "metadata": {},
     "output_type": "execute_result"
    }
   ],
   "source": [
    "train_dir = os.path.join(dataset_dir, 'train')\n",
    "train_dir"
   ]
  },
  {
   "cell_type": "code",
   "execution_count": 11,
   "metadata": {
    "colab": {
     "base_uri": "https://localhost:8080/",
     "height": 34
    },
    "colab_type": "code",
    "id": "oCpwiq6MR6vz",
    "outputId": "008eac21-0bce-407a-f290-388a4b07407a"
   },
   "outputs": [
    {
     "data": {
      "text/plain": [
       "'/home/batu/.keras/datasets/cats_and_dogs_filtered/validation'"
      ]
     },
     "execution_count": 11,
     "metadata": {},
     "output_type": "execute_result"
    }
   ],
   "source": [
    "validation_dir = os.path.join(dataset_dir, 'validation')\n",
    "validation_dir"
   ]
  },
  {
   "cell_type": "code",
   "execution_count": 12,
   "metadata": {
    "colab": {},
    "colab_type": "code",
    "id": "9Es5JD9NSJOX"
   },
   "outputs": [],
   "source": [
    "train_aug = tf.keras.preprocessing.image.ImageDataGenerator(\n",
    "    rescale = 1.0/255.0,\n",
    "    rotation_range = 20,\n",
    "    width_shift_range = 0.1,\n",
    "    height_shift_range = 0.2,\n",
    "    horizontal_flip = True,\n",
    "    zoom_range = 0.2\n",
    ")"
   ]
  },
  {
   "cell_type": "code",
   "execution_count": 13,
   "metadata": {
    "colab": {
     "base_uri": "https://localhost:8080/",
     "height": 333
    },
    "colab_type": "code",
    "id": "76QSI17AT2sz",
    "outputId": "54f25aae-6c14-4ccf-aaae-82ebc0954c61"
   },
   "outputs": [
    {
     "name": "stdout",
     "output_type": "stream",
     "text": [
      "Found 2000 images belonging to 2 classes.\n"
     ]
    }
   ],
   "source": [
    "train_gen = train_aug.flow_from_directory(train_dir, target_size = (input_size, input_size), class_mode = 'categorical', shuffle = True)"
   ]
  },
  {
   "cell_type": "code",
   "execution_count": 14,
   "metadata": {
    "colab": {},
    "colab_type": "code",
    "id": "Z-m7GehsUoex"
   },
   "outputs": [],
   "source": [
    "validation_aug = tf.keras.preprocessing.image.ImageDataGenerator( rescale = 1.0/255.0)"
   ]
  },
  {
   "cell_type": "code",
   "execution_count": 15,
   "metadata": {
    "colab": {
     "base_uri": "https://localhost:8080/",
     "height": 333
    },
    "colab_type": "code",
    "id": "fN3pPnFcV2BX",
    "outputId": "b6594b27-e6f5-4846-eb23-f256067acb68"
   },
   "outputs": [
    {
     "name": "stdout",
     "output_type": "stream",
     "text": [
      "Found 1000 images belonging to 2 classes.\n"
     ]
    }
   ],
   "source": [
    "validation_gen = validation_aug.flow_from_directory(validation_dir, target_size = (input_size,input_size), class_mode = 'categorical')"
   ]
  },
  {
   "cell_type": "code",
   "execution_count": 16,
   "metadata": {
    "colab": {},
    "colab_type": "code",
    "id": "rNsQvQyDWHBY"
   },
   "outputs": [],
   "source": [
    "model.compile(optimizer = 'sgd', loss = 'categorical_crossentropy', metrics = ['accuracy'])"
   ]
  },
  {
   "cell_type": "code",
   "execution_count": 17,
   "metadata": {
    "colab": {
     "base_uri": "https://localhost:8080/",
     "height": 187
    },
    "colab_type": "code",
    "id": "gB_5D7G5WYGJ",
    "outputId": "dfe0b57d-3d6f-49ee-b4a4-a242134d288c",
    "scrolled": false
   },
   "outputs": [
    {
     "name": "stdout",
     "output_type": "stream",
     "text": [
      "Epoch 1/20\n",
      "62/62 [==============================] - 170s 3s/step - loss: 0.8213 - accuracy: 0.6123 - val_loss: 0.9037 - val_accuracy: 0.5000\n",
      "Epoch 2/20\n",
      "62/62 [==============================] - 159s 3s/step - loss: 0.6943 - accuracy: 0.6479 - val_loss: 0.9746 - val_accuracy: 0.5030\n",
      "Epoch 3/20\n",
      "62/62 [==============================] - 163s 3s/step - loss: 0.6823 - accuracy: 0.6580 - val_loss: 0.7466 - val_accuracy: 0.5605\n",
      "Epoch 4/20\n",
      "62/62 [==============================] - 161s 3s/step - loss: 0.6401 - accuracy: 0.6759 - val_loss: 0.6860 - val_accuracy: 0.6310\n",
      "Epoch 5/20\n",
      "62/62 [==============================] - 155s 2s/step - loss: 0.6289 - accuracy: 0.6931 - val_loss: 0.6264 - val_accuracy: 0.6946\n",
      "Epoch 6/20\n",
      "62/62 [==============================] - 160s 3s/step - loss: 0.6326 - accuracy: 0.6890 - val_loss: 0.6183 - val_accuracy: 0.7026\n",
      "Epoch 7/20\n",
      "62/62 [==============================] - 174s 3s/step - loss: 0.6194 - accuracy: 0.7077 - val_loss: 0.5950 - val_accuracy: 0.7268\n",
      "Epoch 8/20\n",
      "62/62 [==============================] - 3020s 49s/step - loss: 0.6026 - accuracy: 0.7203 - val_loss: 0.5938 - val_accuracy: 0.7258\n",
      "Epoch 9/20\n",
      "62/62 [==============================] - 170s 3s/step - loss: 0.5905 - accuracy: 0.7251 - val_loss: 0.5757 - val_accuracy: 0.7298\n",
      "Epoch 10/20\n",
      "62/62 [==============================] - 164s 3s/step - loss: 0.6046 - accuracy: 0.7104 - val_loss: 0.5778 - val_accuracy: 0.7308\n",
      "Epoch 11/20\n",
      "62/62 [==============================] - 156s 3s/step - loss: 0.5788 - accuracy: 0.7470 - val_loss: 0.5727 - val_accuracy: 0.7147\n",
      "Epoch 12/20\n",
      "62/62 [==============================] - 155s 3s/step - loss: 0.5864 - accuracy: 0.7326 - val_loss: 0.5847 - val_accuracy: 0.7298\n",
      "Epoch 13/20\n",
      "62/62 [==============================] - 156s 3s/step - loss: 0.5834 - accuracy: 0.7266 - val_loss: 0.5590 - val_accuracy: 0.7591\n",
      "Epoch 14/20\n",
      "62/62 [==============================] - 157s 3s/step - loss: 0.5712 - accuracy: 0.7465 - val_loss: 0.5638 - val_accuracy: 0.7389\n",
      "Epoch 15/20\n",
      "62/62 [==============================] - 155s 3s/step - loss: 0.5805 - accuracy: 0.7327 - val_loss: 0.5516 - val_accuracy: 0.7500\n",
      "Epoch 16/20\n",
      "62/62 [==============================] - 154s 2s/step - loss: 0.5740 - accuracy: 0.7495 - val_loss: 0.5725 - val_accuracy: 0.7238\n",
      "Epoch 17/20\n",
      "62/62 [==============================] - 157s 3s/step - loss: 0.5658 - accuracy: 0.7530 - val_loss: 0.5528 - val_accuracy: 0.7560\n",
      "Epoch 18/20\n",
      "62/62 [==============================] - 155s 2s/step - loss: 0.5419 - accuracy: 0.7587 - val_loss: 0.5414 - val_accuracy: 0.7681\n",
      "Epoch 19/20\n",
      "62/62 [==============================] - 155s 3s/step - loss: 0.5698 - accuracy: 0.7627 - val_loss: 0.5437 - val_accuracy: 0.7702\n",
      "Epoch 20/20\n",
      "62/62 [==============================] - 155s 2s/step - loss: 0.5744 - accuracy: 0.7414 - val_loss: 0.5749 - val_accuracy: 0.7319\n"
     ]
    },
    {
     "data": {
      "text/plain": [
       "<tensorflow.python.keras.callbacks.History at 0x7fdfd7e3b7b8>"
      ]
     },
     "execution_count": 17,
     "metadata": {},
     "output_type": "execute_result"
    }
   ],
   "source": [
    "model.fit_generator(train_gen, epochs = num_epochs, steps_per_epoch = 2000 // batch_size, validation_data = validation_gen, validation_steps = 1000 // batch_size)"
   ]
  }
 ],
 "metadata": {
  "accelerator": "GPU",
  "colab": {
   "collapsed_sections": [],
   "name": "myFirstColab_tf.ipynb",
   "provenance": []
  },
  "kernelspec": {
   "display_name": "Python 3",
   "language": "python",
   "name": "python3"
  },
  "language_info": {
   "codemirror_mode": {
    "name": "ipython",
    "version": 3
   },
   "file_extension": ".py",
   "mimetype": "text/x-python",
   "name": "python",
   "nbconvert_exporter": "python",
   "pygments_lexer": "ipython3",
   "version": "3.6.9"
  }
 },
 "nbformat": 4,
 "nbformat_minor": 1
}
